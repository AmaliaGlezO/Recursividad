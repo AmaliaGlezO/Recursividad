{
 "cells": [
  {
   "cell_type": "markdown",
   "metadata": {},
   "source": [
    "# Ejercicio 1.1\n",
    "Dados N numeros enteros diferentes y otro numero natural K, con 0 < K < N, imprima el único numero de la lista lista que tiene exactamente k menores que 1 en la misma. encuentre la solución sin ordenar la lista"
   ]
  },
  {
   "cell_type": "code",
   "execution_count": 7,
   "metadata": {},
   "outputs": [
    {
     "name": "stdout",
     "output_type": "stream",
     "text": [
      "5 es el unico numero que tiene 6 numeros menores a el en esta lista\n"
     ]
    }
   ],
   "source": [
    "# Datos:\n",
    "    # tenemos una lista de n numeros enteros\n",
    "    # k es un número menor que n\n",
    "    # debemos encontrar el único número que tiene k números menores que él\n",
    "# Pasos:\n",
    "    # crear una función recursiva para encontrar el único número que tiene k números menores que él\n",
    "    # iterar sobre la lista y encontramos cuantos números son menores que el número actual\n",
    "    # buscar el unico numero que tenga k numeros menores que el\n",
    "\n",
    "def buscar_numero(lista,k):\n",
    "    for numero in lista:\n",
    "        contador_menores = 0 \n",
    "        for x in lista:\n",
    "            if x < numero:\n",
    "                contador_menores += 1\n",
    "        if contador_menores == k:\n",
    "            return f\"{numero} es el unico numero que tiene {k} numeros menores a el en esta lista\"\n",
    "    return f\"no se encontro ninguno con {k} menorse a el\"\n",
    "\n",
    "lista = [2,7,8,4,6,2,-5,6,9,2,5,-9]\n",
    "resultado = buscar_numero(lista,6)\n",
    "print(resultado)"
   ]
  }
 ],
 "metadata": {
  "kernelspec": {
   "display_name": "Python 3",
   "language": "python",
   "name": "python3"
  },
  "language_info": {
   "codemirror_mode": {
    "name": "ipython",
    "version": 3
   },
   "file_extension": ".py",
   "mimetype": "text/x-python",
   "name": "python",
   "nbconvert_exporter": "python",
   "pygments_lexer": "ipython3",
   "version": "3.12.4"
  }
 },
 "nbformat": 4,
 "nbformat_minor": 2
}
