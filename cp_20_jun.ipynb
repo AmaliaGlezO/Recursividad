{
 "cells": [
  {
   "cell_type": "markdown",
   "id": "5a9f30b5",
   "metadata": {},
   "source": [
    "Escriba un programa Python para crear una clase que represente un círculo. Incluir métodos para calcular su área y perímetro."
   ]
  },
  {
   "cell_type": "markdown",
   "id": "d9979002",
   "metadata": {},
   "source": [
    "Escriba un programa Python para crear una clase de persona. Incluya atributos como nombre, país y fecha de nacimiento. Implementar un método para determinar la edad de la persona."
   ]
  },
  {
   "cell_type": "markdown",
   "id": "f39a642d",
   "metadata": {},
   "source": [
    "Escriba un programa Python para crear una clase de calculadora. Incluir métodos para operaciones aritméticas básicas."
   ]
  },
  {
   "cell_type": "markdown",
   "id": "8fb2ea0d",
   "metadata": {},
   "source": [
    "Escriba un programa Python para crear una clase que represente un carrito de compras. Incluya métodos para agregar y quitar artículos y calcular el precio total."
   ]
  },
  {
   "cell_type": "markdown",
   "id": "3cb34d39",
   "metadata": {},
   "source": [
    "Escriba un programa Python para crear una clase que represente un array de numpy. Incluya métodos para sumarse, restarse, multiplicarse y dividirse tal cual sucederia en un array de numpy"
   ]
  }
 ],
 "metadata": {
  "kernelspec": {
   "display_name": "Python 3 (ipykernel)",
   "language": "python",
   "name": "python3"
  }
 },
 "nbformat": 4,
 "nbformat_minor": 5
}
