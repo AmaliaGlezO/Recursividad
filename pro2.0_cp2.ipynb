{
 "cells": [
  {
   "cell_type": "markdown",
   "id": "d3507c71",
   "metadata": {},
   "source": [
    "#### Ejercicio 1\n",
    "Sumar los elementos de un array con divide y vencerás."
   ]
  },
  {
   "cell_type": "code",
   "execution_count": null,
   "id": "0800f679",
   "metadata": {},
   "outputs": [],
   "source": [
    "def sumar_lista(arr):\n",
    "    pass"
   ]
  },
  {
   "cell_type": "markdown",
   "id": "3911ff1c",
   "metadata": {},
   "source": [
    "#### Ejercicio 2\n",
    "Dado un array saca la media usando divide y vencerás"
   ]
  },
  {
   "cell_type": "code",
   "execution_count": null,
   "id": "27df526e",
   "metadata": {},
   "outputs": [],
   "source": [
    "def media(lista):\n",
    "    pass"
   ]
  },
  {
   "cell_type": "markdown",
   "id": "083f239c",
   "metadata": {},
   "source": [
    "#### Ejercicio 3\n",
    "Implementar la búsqueda en un array desordenado usando el algoritmo recursivo divide y venceras, haga una funcion que dada una lista y un valor devuelva su posicion en esta lista si existe y de no existir devuelva -1."
   ]
  },
  {
   "cell_type": "code",
   "execution_count": null,
   "id": "a502c986",
   "metadata": {},
   "outputs": [],
   "source": [
    "def search(list, value):\n",
    "    pass"
   ]
  },
  {
   "cell_type": "markdown",
   "id": "79f6af78",
   "metadata": {},
   "source": [
    "#### Ejercicio 4\n",
    "Implemente el algoritmo de ordenación QuickSort.\n",
    "\n",
    "El QuickSort se basa en la idea de reorganizar los elementos de un array, seleccionando un elemento (pivote) y colocando todos los menores que él al inicio del array y los mayores e iguales al final. Implemente esta estrategia en un algortimo recursivo utilizando la técnica de divide y vencerás."
   ]
  },
  {
   "cell_type": "code",
   "execution_count": null,
   "id": "cad6ab79",
   "metadata": {},
   "outputs": [],
   "source": [
    "def quick_sort(list):\n",
    "    pass"
   ]
  },
  {
   "cell_type": "markdown",
   "id": "8476843d",
   "metadata": {},
   "source": [
    "#### Ejercicio 5\n",
    "Un TAXISTA se desplaza por una ciudad en la que solo está permitido conducir hacia el ESTE y hacia el SUR. Calcule la cantidad de caminos desde un origen hasta un destino."
   ]
  },
  {
   "cell_type": "code",
   "execution_count": null,
   "id": "2ff8d75b",
   "metadata": {},
   "outputs": [],
   "source": [
    "def cant_caminos(xOrig, yOrig, xDest, yDest):\n",
    "    pass"
   ]
  },
  {
   "cell_type": "markdown",
   "id": "9beab0db",
   "metadata": {},
   "source": [
    "#### Ejercicio 6\n",
    "Calcule la cantidad de cadenas balanceadas que pueden formarse con n pares de paréntesis."
   ]
  },
  {
   "cell_type": "code",
   "execution_count": null,
   "id": "416e0331",
   "metadata": {},
   "outputs": [],
   "source": [
    "def cant_cadenas(n):\n",
    "    pass"
   ]
  },
  {
   "cell_type": "markdown",
   "id": "a3482d5c",
   "metadata": {},
   "source": [
    "#### Ejercicio 7\n",
    "\n",
    "Implemente un método que imprima en la Consola la descomposición en sumandos de un número n.\n",
    "\n",
    "Ejemplo: n = 5\n",
    "```\n",
    "1 + 1 + 1 + 1 + 1\n",
    "1 + 1 + 1 + 2\n",
    "1 + 2 + 2\n",
    "1 + 1 + 3\n",
    "1 + 4\n",
    "2 + 3\n",
    "5\n",
    "```"
   ]
  },
  {
   "cell_type": "code",
   "execution_count": null,
   "id": "d1913d71",
   "metadata": {},
   "outputs": [],
   "source": [
    "def descomponer(n):\n",
    "    pass"
   ]
  }
 ],
 "metadata": {
  "kernelspec": {
   "display_name": "Python 3 (ipykernel)",
   "language": "python",
   "name": "python3"
  },
  "language_info": {
   "codemirror_mode": {
    "name": "ipython",
    "version": 3
   },
   "file_extension": ".py",
   "mimetype": "text/x-python",
   "name": "python",
   "nbconvert_exporter": "python",
   "pygments_lexer": "ipython3",
   "version": "3.10.9"
  }
 },
 "nbformat": 4,
 "nbformat_minor": 5
}
