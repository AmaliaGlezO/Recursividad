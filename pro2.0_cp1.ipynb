{
 "cells": [
  {
   "cell_type": "markdown",
   "id": "2f34f43e",
   "metadata": {},
   "source": [
    "#### Ejercicio 1\n",
    "Escribir un programa recursivo que encuentre la suma de los enteros positivos impares hasta N."
   ]
  },
  {
   "cell_type": "code",
   "execution_count": null,
   "id": "64c0d03a",
   "metadata": {},
   "outputs": [],
   "source": [
    "def recursive_sum(n):\n",
    "    pass"
   ]
  },
  {
   "cell_type": "markdown",
   "id": "b8923d70",
   "metadata": {},
   "source": [
    "#### Ejercicio 2\n",
    "Escriba una función recursiva que ordene de menor a mayor un arreglo de enteros basándose en la siguiente idea: coloque el elemento más pequeño en la primera ubicación, y luego ordene el resto del arreglo con una llamada recursiva."
   ]
  },
  {
   "cell_type": "code",
   "execution_count": null,
   "id": "1bc8abfa",
   "metadata": {},
   "outputs": [],
   "source": [
    "def recursive_sort(list):\n",
    "    pass"
   ]
  },
  {
   "cell_type": "markdown",
   "id": "604c4a07",
   "metadata": {},
   "source": [
    "#### Ejercicio 3\n",
    "Escribir un programa que calcule el máximo común divisor (MCD) de dos enteros positivos."
   ]
  },
  {
   "cell_type": "code",
   "execution_count": null,
   "id": "ef9fe965",
   "metadata": {},
   "outputs": [],
   "source": [
    "def mcd(n,m):\n",
    "    pass"
   ]
  },
  {
   "cell_type": "markdown",
   "id": "6ddfcbe3",
   "metadata": {},
   "source": [
    "#### Ejercicio 4\n",
    "Implemente una función recursiva que nos diga si una cadena es palíndromo."
   ]
  },
  {
   "cell_type": "code",
   "execution_count": null,
   "id": "3d22d4e8",
   "metadata": {},
   "outputs": [],
   "source": [
    "def es_palindromo(palabra):\n",
    "    pass"
   ]
  },
  {
   "cell_type": "markdown",
   "id": "b2d2f6ca",
   "metadata": {},
   "source": [
    "#### Ejercicio 5\n",
    "\n",
    "Torres de Hanoi. Este juego en su forma más básica está formado por tres varillas verticales, en una de ellas, la cual denominaremos origen, se apila una torre de n discos ordenados de mayor a menor tamaño, siendo el disco de mayor tamaño la base. El objetivo de este juego consiste en mover la torre de la varilla origen a la varilla destino con el menor número de movimientos posible. Para realizarlo habrá que seguir dos simples normas:\n",
    "Sólo se moverá un disco por vez.\n",
    "No se podrá colocar un disco de mayor tamaño sobre otro de menor tamaño.\n",
    "\n",
    "Escribe una funcion que reciba, la cantidad de discos, y las 3 varillas que pueden ser representadas como una lista (o pila) de numeros, e imprima cada uno de los pasos que se ejecutaron para resolver el juego.\n",
    "\n",
    "Puedes probar el juego en:\n",
    "https://www.geogebra.org/m/NqyWJVra"
   ]
  },
  {
   "cell_type": "code",
   "execution_count": null,
   "id": "31c82247",
   "metadata": {},
   "outputs": [],
   "source": [
    "def solve_hanoi(discos, origen, destino, auxiliar):\n",
    "    pass"
   ]
  }
 ],
 "metadata": {
  "kernelspec": {
   "display_name": "Python 3 (ipykernel)",
   "language": "python",
   "name": "python3"
  },
  "language_info": {
   "codemirror_mode": {
    "name": "ipython",
    "version": 3
   },
   "file_extension": ".py",
   "mimetype": "text/x-python",
   "name": "python",
   "nbconvert_exporter": "python",
   "pygments_lexer": "ipython3",
   "version": "3.10.9"
  }
 },
 "nbformat": 4,
 "nbformat_minor": 5
}
